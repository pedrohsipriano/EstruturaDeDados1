{
  "nbformat": 4,
  "nbformat_minor": 0,
  "metadata": {
    "colab": {
      "provenance": [],
      "include_colab_link": true
    },
    "kernelspec": {
      "name": "python3",
      "display_name": "Python 3"
    },
    "language_info": {
      "name": "python"
    }
  },
  "cells": [
    {
      "cell_type": "markdown",
      "metadata": {
        "id": "view-in-github",
        "colab_type": "text"
      },
      "source": [
        "<a href=\"https://colab.research.google.com/github/pedrohsipriano/EstruturaDeDados1/blob/main/Lista_com_Python_CC_PedroHenrique.ipynb\" target=\"_parent\"><img src=\"https://colab.research.google.com/assets/colab-badge.svg\" alt=\"Open In Colab\"/></a>"
      ]
    },
    {
      "cell_type": "markdown",
      "source": [
        "#**Introdução às Estruturas de Dados**\n",
        "\n",
        "1 - Definição e importância das estruturas de dados no desenvolvimento de programas;\n",
        "\n",
        "2 - Conceitos fundamentais: variáveis, tipos de dados e alocação de memória;\n",
        "\n",
        "3 - Visão geral das estruturas lineares:\n",
        "listas, filas e pilhas."
      ],
      "metadata": {
        "id": "d0j7Eti4VYll"
      }
    },
    {
      "cell_type": "code",
      "source": [
        "# Voce possui uma variavel a = 10 e uma variavel b = 5, e precisa trocar o valor das duas. Como voce faria?\n",
        "\n",
        "\n",
        "a = 10\n",
        "b = 5\n",
        "\n",
        "a, b = b, a\n",
        "\n",
        "print (a ,b)"
      ],
      "metadata": {
        "colab": {
          "base_uri": "https://localhost:8080/"
        },
        "id": "d-WCvAxUcHk9",
        "outputId": "e24a9211-4777-4f70-c9f8-7efed3ec556c"
      },
      "execution_count": null,
      "outputs": [
        {
          "output_type": "stream",
          "name": "stdout",
          "text": [
            "5 10\n"
          ]
        }
      ]
    },
    {
      "cell_type": "code",
      "source": [
        "bsb = [\"a\",\"b\",\"c\",\"d\",\"e\",\"f\",\"g\",\"h\"]\n",
        "go = [\"a\",\"b\",\"c\",\"d\",\"e\",\"f\",\"g\",\"h\"]\n",
        "sp = [\"i\",\"j\",\"k\",\"l\",\"m\",\"n\",\"o\",\"p\"]\n",
        "bsb_go = [\"g\",\"h\"]\n",
        "go_sp = []\n",
        "\n",
        "soma = (bsb + go + sp + bsb_go)\n",
        "print(soma)"
      ],
      "metadata": {
        "colab": {
          "base_uri": "https://localhost:8080/"
        },
        "id": "5AH9Xn6uh1Do",
        "outputId": "cbb55b3e-1fc1-4d86-fc2a-f420442bfc0f"
      },
      "execution_count": null,
      "outputs": [
        {
          "output_type": "stream",
          "name": "stdout",
          "text": [
            "['a', 'b', 'c', 'd', 'e', 'f', 'g', 'h', 'a', 'b', 'c', 'd', 'e', 'f', 'g', 'h', 'i', 'j', 'k', 'l', 'm', 'n', 'o', 'p', 'g', 'h']\n"
          ]
        }
      ]
    },
    {
      "cell_type": "markdown",
      "source": [
        "#**Exercícios 3.4 do livro (Em qualquer linguagem de programação)**\n",
        "\n",
        "1) Crie um vetor de inteiros ( int ) de 10 posições. Preencha-o com os valores 10 , 20 , 30 , 40 , 50 , 60 , 70 , 80 , 90 e 100 . Use um for para exibir os valores deste vetor.\n",
        "\n",
        "2) Crie uma matriz de caracteres ( char ) de 16 posições (4x4).\n",
        "Preencha-a com os valores a , b , c , d , e , f , g , h , i , j , k , l , m , n , o e p . Use dois for para exibir os valores desta matriz.\n",
        "\n",
        "3) Faça um programa com um vetor com 10 elementos inteiros positivos (aleatórios e de sua escolha). Permita que seja solicitado um determinado valor inteiro e positivo para ser procurado neste\n",
        "vetor. Caso exista, o programa deve exibir o índice no qual o valor está posicionado. Caso contrário, o programa deve informar que o\n",
        "elemento não existe no vetor.\n",
        "\n",
        "\n",
        "4) Faça um programa com uma matriz com 9 elementos (3x3) reais positivos (aleatórios e de sua escolha). Calcule e exiba a soma\n",
        "dos elementos de cada linha desta matriz.\n",
        "\n",
        "\n",
        "5) Faça um programa com uma matriz 5x5 de inteiros\n",
        "positivos ou negativos (aleatórios e de sua escolha) e encontre e\n",
        "exiba o maior elemento desta matriz."
      ],
      "metadata": {
        "id": "TE5KdqQhYsTk"
      }
    },
    {
      "cell_type": "code",
      "source": [
        "# 1) Crie um vetor de inteiros ( int ) de 10 posições. Preencha-o com os valores 10 , 20 , 30 , 40 , 50 , 60 , 70 , 80 , 90 e 100 . Use um for para exibir os valores deste vetor.\n",
        "\n",
        "numeros = [10, 20, 30, 40, 50, 60, 70, 80, 90, 100]\n",
        "\n",
        "print(numeros)"
      ],
      "metadata": {
        "colab": {
          "base_uri": "https://localhost:8080/"
        },
        "id": "RNxc3ZV8Y0eC",
        "outputId": "11d9a6e3-4c98-48db-c3d4-c0dc2b851ffa"
      },
      "execution_count": null,
      "outputs": [
        {
          "output_type": "stream",
          "name": "stdout",
          "text": [
            "[10, 20, 30, 40, 50, 60, 70, 80, 90, 100]\n"
          ]
        }
      ]
    },
    {
      "cell_type": "code",
      "source": [
        "# 2) Crie uma matriz de caracteres ( char ) de 16 posições (4x4). Preencha-a com os valores a , b , c , d , e , f , g , h , i , j , k , l , m , n , o e p .\n",
        "# Use dois for para exibir os valores desta matriz.\n",
        "\n",
        "letras = [\n",
        "    [\"a\" ,\"b\" ,\"c\", \"d\"],\n",
        "    [\"e\", \"f\", \"g\", \"h\"],\n",
        "    [\"i\", \"j\", \"k\", \"l\"],\n",
        "    [\"m\", \"n\", \"o\", \"p\"]\n",
        "      ]\n",
        "\n",
        "for linha in letras:\n",
        "  for elemento in linha:\n",
        "    print(elemento, end=\" \")\n",
        "  print()"
      ],
      "metadata": {
        "colab": {
          "base_uri": "https://localhost:8080/"
        },
        "id": "nOKS2RKlZlFM",
        "outputId": "a28e0e03-6c44-4d6e-a638-768a645601eb"
      },
      "execution_count": null,
      "outputs": [
        {
          "output_type": "stream",
          "name": "stdout",
          "text": [
            "a b c d \n",
            "e f g h \n",
            "i j k l \n",
            "m n o p \n"
          ]
        }
      ]
    },
    {
      "cell_type": "code",
      "source": [
        "# 3) Faça um programa com um vetor com 10 elementos inteiros positivos (aleatórios e de sua escolha).\n",
        "# Permita que seja solicitado um determinado valor inteiro e positivo para ser procurado neste vetor.\n",
        "# Caso exista, o programa deve exibir o índice no qual o valor está posicionado.\n",
        "# Caso contrário, o programa deve informar que o elemento não existe no vetor.\n",
        "\n",
        "numeros = [1, 2, 3, 4, 5, 6, 7, 8, 9, 10]\n",
        "valor = 4\n",
        "\n",
        "if valor in numeros:\n",
        "  indice = numeros.index(valor)\n",
        "  print (\"O valor está na lista, o local no vetor é:\", indice)\n",
        "else:\n",
        "  print (\"O valor não está na lista\")\n",
        "\n",
        "\n"
      ],
      "metadata": {
        "colab": {
          "base_uri": "https://localhost:8080/"
        },
        "id": "5pCaO3aBaB2H",
        "outputId": "c6707983-fb54-4d55-9e0d-b2cef4e975ef"
      },
      "execution_count": null,
      "outputs": [
        {
          "output_type": "stream",
          "name": "stdout",
          "text": [
            "O valor está na lista, o local no vetor é: 3\n"
          ]
        }
      ]
    },
    {
      "cell_type": "code",
      "source": [
        "# 4) Faça um programa com uma matriz com 9 elementos (3x3) reais positivos (aleatórios e de sua escolha).\n",
        "# Calcule e exiba a soma dos elementos de cada linha desta matriz.\n",
        "\n",
        "numerosA = [\n",
        "    [1 , 2, 3],\n",
        "    [4, 5, 6],\n",
        "    [7, 8, 9]\n",
        "      ]\n",
        "soma = 0\n",
        "for linha in numerosA:\n",
        "    for elemento in linha:\n",
        "        soma += elemento\n",
        "\n",
        "print(\"Soma dos elementos:\", soma)"
      ],
      "metadata": {
        "colab": {
          "base_uri": "https://localhost:8080/"
        },
        "id": "ewC_iRf5al3q",
        "outputId": "6a5a3b88-c325-4bd2-b833-98ec6c65912b"
      },
      "execution_count": null,
      "outputs": [
        {
          "output_type": "stream",
          "name": "stdout",
          "text": [
            "Soma dos elementos: 45\n"
          ]
        }
      ]
    },
    {
      "cell_type": "code",
      "source": [
        "# 5) Faça um programa com uma matriz 5x5 de inteiros positivos ou negativos (aleatórios e de sua escolha)\n",
        "# e encontre e exiba o maior elemento desta matriz.\n",
        "\n",
        "numerosB = [\n",
        "    [1,2,3,4,5],\n",
        "    [6,7,8,9,10],\n",
        "    [11,12,13,14,15]\n",
        "      ]\n",
        "maior = max(max(linha) for linha in numerosB)\n",
        "print(\"Maior número da matriz:\", maior)"
      ],
      "metadata": {
        "colab": {
          "base_uri": "https://localhost:8080/"
        },
        "id": "yrntKG8NauX_",
        "outputId": "280968e0-3844-4d99-9984-97e9c48dabd5"
      },
      "execution_count": null,
      "outputs": [
        {
          "output_type": "stream",
          "name": "stdout",
          "text": [
            "Maior número da matriz: 15\n"
          ]
        }
      ]
    },
    {
      "cell_type": "markdown",
      "source": [
        "#**Capitulo 8 Livro POO com Python (26/02)**\n",
        "criar uma classe CONTA Bancaria"
      ],
      "metadata": {
        "id": "UzhqjRNBnFgY"
      }
    },
    {
      "cell_type": "code",
      "source": [
        "numero1 = \"123-4\"\n",
        "titular1 = \"Pedro\"\n",
        "saldo1 = 120.0\n",
        "limite1 = 1000.0\n",
        "\n",
        "numero2 = \"123-5\"\n",
        "titular2 = \"João\"\n",
        "saldo2 = 200.0\n",
        "limite2 = 1000.0\n",
        "\n",
        "numero3 = \"123-6\"\n",
        "titular3 = \"José\"\n",
        "saldo3 = 120.0\n",
        "limite3 = 1000.0"
      ],
      "metadata": {
        "id": "lY5a5R0lgRTf"
      },
      "execution_count": null,
      "outputs": []
    },
    {
      "cell_type": "code",
      "source": [
        "def cria_conta(numero, titular, saldo, limite):\n",
        "    conta = {\"numero\": numero, \"titular\": titular, \"saldo\": saldo, \"limite\": limite}\n",
        "    return conta\n",
        "\n",
        "conta1 = cria_conta('123-4', 'João', 120.0, 1000.0)\n",
        "conta2 = cria_conta('123-5', 'José', 200.0, 1000.0)\n",
        "conta1['numero']"
      ],
      "metadata": {
        "colab": {
          "base_uri": "https://localhost:8080/",
          "height": 36
        },
        "id": "qp_0JqfylPK5",
        "outputId": "ce122c53-bd91-4aff-f80d-785cc3b87faf"
      },
      "execution_count": null,
      "outputs": [
        {
          "output_type": "execute_result",
          "data": {
            "text/plain": [
              "'123-20'"
            ],
            "application/vnd.google.colaboratory.intrinsic+json": {
              "type": "string"
            }
          },
          "metadata": {},
          "execution_count": 29
        }
      ]
    },
    {
      "cell_type": "code",
      "source": [
        "# Funcionalidades\n",
        "\n",
        "# def depositar(conta, valor):\n",
        "#     conta['saldo'] = conta['saldo'] + valor\n",
        "\n",
        "def depositar(conta, valor):\n",
        "    conta['saldo'] += valor\n",
        "\n",
        "def sacar(conta, valor):\n",
        "    conta['saldo'] -= valor\n",
        "\n",
        "def extrato(conta):\n",
        "    print(\"numero: {} \\nsaldo: {}\".format(conta['numero'], conta['saldo']))"
      ],
      "metadata": {
        "id": "aozHDwCIlalA"
      },
      "execution_count": null,
      "outputs": []
    },
    {
      "cell_type": "code",
      "source": [
        "\n",
        "    conta = cria_conta('123-4', 'João', 120.0, 1000.0)\n",
        "\n",
        "    depositar(conta, 15.0)\n",
        "    extrato(conta)\n",
        "    sacar(conta, 20.0)\n",
        "    extrato(conta)"
      ],
      "metadata": {
        "colab": {
          "base_uri": "https://localhost:8080/"
        },
        "id": "N6Sbc2MumGbW",
        "outputId": "90ae54d4-2ec8-48bb-949e-5c2b90d7fef6"
      },
      "execution_count": null,
      "outputs": [
        {
          "output_type": "stream",
          "name": "stdout",
          "text": [
            "numero: 123-4 \n",
            "saldo: 135.0\n",
            "numero: 123-4 \n",
            "saldo: 115.0\n"
          ]
        }
      ]
    },
    {
      "cell_type": "markdown",
      "source": [
        "#**Exercicios - Criando uma classe**\n",
        "\n",
        "![ExercicioPOO.png](data:image/png;base64,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)"
      ],
      "metadata": {
        "id": "AyBQpvrsn8MY"
      }
    },
    {
      "cell_type": "code",
      "source": [
        "def criar_pessoa(nome, idade, peso, altura):\n",
        "    pessoa = {\"nome\": nome, \"idade\": idade, \"peso\": peso, \"altura\": altura}\n",
        "    return pessoa\n",
        "#funcionalidades\n",
        "\n",
        "def envelhecer(pessoa, idade):\n",
        "    pessoa['idade'] += idade\n",
        "\n",
        "def engordar(pessoa, peso):\n",
        "    pessoa['peso'] += peso\n",
        "\n",
        "def emagrecer(pessoa, peso):\n",
        "    pessoa['peso'] -= peso\n",
        "\n",
        "def crescer(pessoa, altura):\n",
        "    pessoa['altura'] += altura"
      ],
      "metadata": {
        "id": "jEWyU0KlvB7Z"
      },
      "execution_count": null,
      "outputs": []
    },
    {
      "cell_type": "code",
      "source": [
        "    pessoa = criar_pessoa(\"Pedro\", 21, 67.5, 1.71)\n",
        "\n",
        "    envelhecer(pessoa, 10)\n",
        "    engordar(pessoa, 10)\n",
        "    emagrecer(pessoa, 20)\n",
        "    crescer(pessoa, 10)\n",
        "\n",
        "    print(pessoa)"
      ],
      "metadata": {
        "colab": {
          "base_uri": "https://localhost:8080/"
        },
        "id": "GHxZLZmWwX-w",
        "outputId": "9ae6ec27-0710-4595-a789-28cae82ca7d2"
      },
      "execution_count": null,
      "outputs": [
        {
          "output_type": "stream",
          "name": "stdout",
          "text": [
            "{'nome': 'Pedro', 'idade': 31, 'peso': 57.5, 'altura': 11.71}\n"
          ]
        }
      ]
    },
    {
      "cell_type": "markdown",
      "source": [
        "# Aplicações na prática\n"
      ],
      "metadata": {
        "id": "Lpxe0Ad7oXcD"
      }
    },
    {
      "cell_type": "markdown",
      "source": [
        "##Array de structs (listas)\n"
      ],
      "metadata": {
        "id": "QRmPOoHMwug9"
      }
    },
    {
      "cell_type": "code",
      "source": [
        "from dataclasses import dataclass\n",
        "from typing import List\n",
        "import statistics\n",
        "\n",
        "#Definição da estrutura de dados\n",
        "@dataclass\n",
        "class Dados:\n",
        "  categoria: str\n",
        "  valor: float\n",
        "\n",
        "#Funcção para alimentar o array de structs\n",
        "def alimentar_dados () -> List[Dados]:\n",
        "  dados = [\n",
        "    Dados(\"Categoria A\", 10.0),\n",
        "    Dados(\"Categoria B\", 20.0),\n",
        "    Dados(\"Categoria A\", 15.0),\n",
        "    Dados(\"Categoria C\", 25.0),\n",
        "    Dados(\"Categoria D\", 20.0),\n",
        "  ]\n",
        "  return dados\n",
        "\n",
        "#Função para gerar estatisticas dos dados tabulados\n",
        "def gerar_estatisticas(dados: List[Dados]):\n",
        "#tabular dados por categorias\n",
        "  tabela = {}\n",
        "  for dado in dados:\n",
        "    if dado.categoria not in tabela:\n",
        "      tabela[dado.categoria] = []\n",
        "    tabela[dado.categoria].append(dado.valor)\n",
        "\n",
        "  #Exibir estatísticas\n",
        "  for categoria, valores in tabela.items():\n",
        "    print(f\"Categoria: {categoria}\")\n",
        "    print(f\"  Total de itens: {len(valores)}\")\n",
        "    print(f\"  Soma dos valores: {sum(valores)}\")\n",
        "    print(f\"  Media dos valores: {statistics.mean(valores):2f}\")\n",
        "    print(f\"  Valor maximo: {max(valores)}\")\n",
        "    print(f\"  Valor maximo: {min(valores)}\")\n",
        "    print()\n",
        "\n",
        "#programa principal\n",
        "def main():\n",
        "  #alimentar os dados\n",
        "  dados = alimentar_dados()\n",
        "\n",
        "  #gerar estatisticas\n",
        "  gerar_estatisticas(dados)\n",
        "\n",
        "if __name__ == \"__main__\":\n",
        "  main()"
      ],
      "metadata": {
        "colab": {
          "base_uri": "https://localhost:8080/"
        },
        "id": "yk_H0GocrEGA",
        "outputId": "2f013628-7323-4679-e9e9-68f10eb4ae21"
      },
      "execution_count": null,
      "outputs": [
        {
          "output_type": "stream",
          "name": "stdout",
          "text": [
            "Categoria: Categoria A\n",
            "  Total de itens: 2\n",
            "  Soma dos valores: 25.0\n",
            "  Media dos valores: 12.500000\n",
            "  Valor maximo: 15.0\n",
            "  Valor maximo: 10.0\n",
            "\n",
            "Categoria: Categoria B\n",
            "  Total de itens: 1\n",
            "  Soma dos valores: 20.0\n",
            "  Media dos valores: 20.000000\n",
            "  Valor maximo: 20.0\n",
            "  Valor maximo: 20.0\n",
            "\n",
            "Categoria: Categoria C\n",
            "  Total de itens: 1\n",
            "  Soma dos valores: 25.0\n",
            "  Media dos valores: 25.000000\n",
            "  Valor maximo: 25.0\n",
            "  Valor maximo: 25.0\n",
            "\n",
            "Categoria: Categoria D\n",
            "  Total de itens: 1\n",
            "  Soma dos valores: 20.0\n",
            "  Media dos valores: 20.000000\n",
            "  Valor maximo: 20.0\n",
            "  Valor maximo: 20.0\n",
            "\n"
          ]
        }
      ]
    },
    {
      "cell_type": "markdown",
      "source": [
        "##Pilhas (Stack)"
      ],
      "metadata": {
        "id": "smQS8cE3xIKZ"
      }
    },
    {
      "cell_type": "markdown",
      "source": [
        "Grenciar pilha para armazenar numeros\n"
      ],
      "metadata": {
        "id": "fL27xp4o7BfX"
      }
    },
    {
      "cell_type": "code",
      "source": [
        "#classe para definir uma pilha (Stack)\n",
        "class Pilha:\n",
        "  def __init__(self):\n",
        "    self.itens = [] #inicializa a pilha como uma lista vazia\n",
        "\n",
        "  def push(self, item):\n",
        "    self.itens.append(item)\n",
        "    print(f\"Elemento {item} adicionado à pilha.\")\n",
        "\n",
        "#Pperação pop: remove o elemento do top\n",
        "  def pop (self):\n",
        "    if not self.esta_vazia():\n",
        "      removido = self.itens.pop()\n",
        "      print(f\"Elemento {removido} removido da pilha.\")\n",
        "      return removido\n",
        "    else:\n",
        "      print(\"A pilha esta vazia. Nenhum elemento para resolver.\")\n",
        "      return None\n",
        "\n",
        "#Operação top: retorna o elemento do topo\n",
        "  def top(self):\n",
        "    if not self.esta_vazia():\n",
        "      print(f\"Elemento no topo da pilha: {self.itens[-1]}\")\n",
        "      return self.itens[-1]\n",
        "    else:\n",
        "      print(\"A pilha esta vazia. Nenhum elemento no topo\")\n",
        "      return None\n",
        "\n",
        "#Verificar se a pilha está vazia\n",
        "  def esta_vazia(self):\n",
        "    return len(self.itens) == 0\n",
        "\n",
        "#Verifica o estado atual da pilha\n",
        "  def exibir(self):\n",
        "    print(\"Estado atual da pilha:\", self.itens)\n",
        "\n",
        "#Função para ordenar a pilha como lista\n",
        "def ordenar_pilha_como_lista(pilha):\n",
        "  lista_ordenada = sorted(pilha.itens) #ordena os elementos da pilha\n",
        "  print(\"Pilha ordenada como lista:\", pilha.itens)\n",
        "  return lista_ordenada\n",
        "\n",
        "#Programa principal\n",
        "def main():\n",
        "\n",
        "  #criando a pilha\n",
        "  pilha = Pilha()\n",
        "\n",
        "  #Adicionar elementos à pilha\n",
        "  pilha.push(10)\n",
        "  pilha.push(5)\n",
        "  pilha.push(20)\n",
        "\n",
        "  #exibindo o estado atual da pilha\n",
        "  pilha.exibir()\n",
        "\n",
        "  #removendo o elemento da pilha\n",
        "  pilha.pop()\n",
        "\n",
        "  #ordenando a pilha como lista\n",
        "  lista_ordenada = ordenar_pilha_como_lista(pilha)\n",
        "\n",
        "if __name__ == \"__main__\":\n",
        "  main()"
      ],
      "metadata": {
        "colab": {
          "base_uri": "https://localhost:8080/"
        },
        "id": "aM8bxWd_5SKO",
        "outputId": "ddae8db6-ed3a-499d-a96c-55d858c1e4cc"
      },
      "execution_count": null,
      "outputs": [
        {
          "output_type": "stream",
          "name": "stdout",
          "text": [
            "Elemento 10 adicionado à pilha.\n",
            "Elemento 5 adicionado à pilha.\n",
            "Elemento 20 adicionado à pilha.\n",
            "Estado atual da pilha: [10, 5, 20]\n",
            "Elemento 20 removido da pilha.\n",
            "Pilha ordenada como lista: [10, 5]\n"
          ]
        }
      ]
    },
    {
      "cell_type": "markdown",
      "source": [
        "#Metodos contrutores\n"
      ],
      "metadata": {
        "id": "Ph5yTGhH9_zz"
      }
    },
    {
      "cell_type": "code",
      "source": [
        "class Livro:\n",
        "  def __init__(self, titulo, autor, isbn):\n",
        "    self.titulo = titulo\n",
        "    self.autor = autor\n",
        "    self.isbn = isbn\n",
        "\n",
        "  def exibir_info(self):\n",
        "\n",
        "    return f\"Titulo: {self.titulo}, Autor: {self.autor}, ISBN: {self.isbn}\"\n",
        "\n",
        "class Usuario:\n",
        "  def __init__(self, nome, id_usuario):\n",
        "    self.nome = nome\n",
        "    self.id_usuario = id_usuario\n",
        "\n",
        "  def exibir_info(self):\n",
        "    return f\"Nome: {self.nome}, ID Usuario: {self.id_usuario}\"\n",
        "\n",
        "class Emprestimo:\n",
        "  def __init__(self, livro, usuario, data_devolucao):\n",
        "    self.livro = livro\n",
        "    self.usuario = usuario\n",
        "    self.data_devolucao = data_devolucao\n",
        "\n",
        "  def exibir_info(self):\n",
        "    return f\"Livro: {self.livro.titulo}, Usuario: {self.usuario.nome}, Data de devolução: {self.data_devolucao}\"\n",
        "\n",
        "class Biblioteca:\n",
        "  def __init__(self):\n",
        "    self.livros = []\n",
        "    self.usuarios = []\n",
        "    self.emprestimos = []\n",
        "\n",
        "  def adicionar_livro(self, livro):\n",
        "    self.livros.append(livro)\n",
        "\n",
        "  def adicionar_usuario(self, usuario):\n",
        "    self.usuarios.append(usuario)\n",
        "\n",
        "  def registrar_emprestimo(self, emprestimo):\n",
        "    self.emprestimos.append(emprestimo)\n",
        "\n",
        "biblioteca = Biblioteca()\n",
        "\n",
        "livro1 = Livro(\"Dom Casmurro\", \"Machado de Assis\", \"978-85-359-0277-5\")\n",
        "usuario1 = Usuario(\"Pedro Henrique\", \"123\")\n",
        "emprestimo1 = Emprestimo(livro1, usuario1, \"2024-06-30\")\n",
        "\n",
        "biblioteca.adicionar_livro(livro1)\n",
        "biblioteca.adicionar_usuario(usuario1)\n",
        "biblioteca.registrar_emprestimo(emprestimo1)\n",
        "\n",
        "print(biblioteca.livros[0].exibir_info())\n",
        "print(biblioteca.usuarios[0].exibir_info())\n",
        "print(biblioteca.emprestimos[0].exibir_info())\n"
      ],
      "metadata": {
        "colab": {
          "base_uri": "https://localhost:8080/"
        },
        "id": "eEge8CKK-Ate",
        "outputId": "56222405-3354-43f1-e1bc-c2b7472e8973"
      },
      "execution_count": null,
      "outputs": [
        {
          "output_type": "stream",
          "name": "stdout",
          "text": [
            "Titulo: Dom Casmurro, Autor: Machado de Assis, ISBN: 978-85-359-0277-5\n",
            "Nome: Pedro Henrique, ID Usuario: 123\n",
            "Livro: Dom Casmurro, Usuario: Pedro Henrique, Data de devolução: 2024-06-30\n"
          ]
        }
      ]
    },
    {
      "cell_type": "markdown",
      "source": [
        "#Revisão para a prova"
      ],
      "metadata": {
        "id": "pVVbSazPFlDc"
      }
    },
    {
      "cell_type": "code",
      "source": [
        "teste"
      ],
      "metadata": {
        "id": "GsgJfY8TFn5k"
      },
      "execution_count": null,
      "outputs": []
    }
  ]
}